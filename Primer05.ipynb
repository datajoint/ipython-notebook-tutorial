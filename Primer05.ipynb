{
 "cells": [
  {
   "cell_type": "markdown",
   "metadata": {},
   "source": [
    "[Prev](Primer04.ipynb)\n",
    "\n",
    "DataJoint Primer. Section 5.\n",
    "# Lookup tables"
   ]
  },
  {
   "cell_type": "code",
   "execution_count": 1,
   "metadata": {
    "collapsed": false
   },
   "outputs": [
    {
     "name": "stdout",
     "output_type": "stream",
     "text": [
      "DataJoint 0.2.1 (June 1, 2016)\n",
      "Loading local settings from dj_local_conf.json\n"
     ]
    }
   ],
   "source": [
    "%matplotlib notebook\n",
    "import datajoint as dj"
   ]
  },
  {
   "cell_type": "markdown",
   "metadata": {},
   "source": [
    "## Lookups store simple facts"
   ]
  },
  {
   "cell_type": "markdown",
   "metadata": {},
   "source": [
    "In the [previous part](Primer04.ipynb) we have defined a new class that used the MySQL `enum` datatype. \n",
    "\n",
    "```python\n",
    "\n",
    "@schema\n",
    "class CorticalLayer(dj.Manual):\n",
    "    definition = \"\"\"\n",
    "    # cortical layer a scan was performed in \n",
    "    -> expe.Scan\n",
    "    ---\n",
    "    layer    : enum(\"L1\",\"L2/3\",\"L4\", \"L5\",\"L6\")\n",
    "    \"\"\"\n",
    "```\n",
    "\n",
    "The reason why we used an `enum` and not a simple `char` field is that we wanted to standardize the names. We don't want other users to enter free text for this attribute that we would not know how to handle downstream in the analysis. However, enumerates have one drawback: Once the table is defined you cannot change its values. You need to redefine the table which means we have to play with MySQL code. An additional advantage is that `enum`s only work for one value. What if we want to predefine entire tuples?\n",
    "\n",
    "These things can be easily achieved with lookup tables. The store simple facts like names or parameter settings, and we usually do not expect them to grow a lot. DataJoint provides a simple hook to fill the table with contents. \n",
    "\n",
    "Let's make a simple example by defining an experimenter table. That table could be used as an additional dependency in `expe.Session`. Because an experimenter is usually defined by more than one attribute and the number of experimenters can grow over time, a lookup table is a good choice. "
   ]
  },
  {
   "cell_type": "code",
   "execution_count": 2,
   "metadata": {
    "collapsed": false
   },
   "outputs": [
    {
     "data": {
      "text/html": [
       " <h3>experimenter information</h3>\n",
       "            <div style=\"max-height:1000px;max-width:1500px;overflow:auto;\">\n",
       "            <table border=\"1\" class=\"dataframe\">\n",
       "                <thead> <tr style=\"text-align: right;\"> <th> <em>experimenter_id</em></th><th>first_name</th><th>last_name </th> </tr> </thead>\n",
       "                <tbody> <tr> <td>0</td>\n",
       "<td>Dimitri</td>\n",
       "<td>Yatsenko</td></tr><tr><td>1</td>\n",
       "<td>Edgar</td>\n",
       "<td>Walker</td></tr><tr><td>2</td>\n",
       "<td>Jake</td>\n",
       "<td>Reimer</td></tr><tr><td>3</td>\n",
       "<td>Fabian</td>\n",
       "<td>Sinz</td> </tr> </tbody>\n",
       "            </table>\n",
       "            <p>4 tuples</p></div>\n",
       "            "
      ],
      "text/plain": [
       "*experimenter_ first_name     last_name    \n",
       "+------------+ +------------+ +-----------+\n",
       "0              Dimitri        Yatsenko     \n",
       "1              Edgar          Walker       \n",
       "2              Jake           Reimer       \n",
       "3              Fabian         Sinz         \n",
       " (4 tuples)"
      ]
     },
     "execution_count": 2,
     "metadata": {},
     "output_type": "execute_result"
    }
   ],
   "source": [
    "schema = dj.schema('dimitri_experiment',locals())\n",
    "\n",
    "@schema\n",
    "class Experimenter(dj.Lookup):\n",
    "    definition = \"\"\"\n",
    "    # experimenter information\n",
    "    \n",
    "    experimenter_id    : tinyint # unique ID of the experimenter\n",
    "    ---\n",
    "    first_name         : varchar(128) # first name\n",
    "    last_name          : varchar(128) # last name\n",
    "    \"\"\"\n",
    "    \n",
    "    contents = [\n",
    "        (0, 'Dimitri','Yatsenko'),\n",
    "        (1, 'Edgar','Walker'),\n",
    "        (2, 'Jake','Reimer'),\n",
    "        (3, 'Fabian','Sinz'),\n",
    "    ]\n",
    "    \n",
    "Experimenter()"
   ]
  },
  {
   "cell_type": "markdown",
   "metadata": {},
   "source": [
    "Let's take a closer look: Lookup tables inherit from `dj.Lookup`. This tier is very similar to `dj.Manual` except that the table names are generated a bit differently from the class names and that a lookup table can have a variable `contents` that predefine content that needs to be inserted. Contents only needs to be iterable and each item needs to be an insertable element (a tuple, a dictionary, or a record array). So this would work as well\n",
    "\n",
    "```python\n",
    "@schema\n",
    "class Layer(dj.Lookup):\n",
    "    definition = \"\"\"\n",
    "    # cortical layer\n",
    "    layer     : char(5) # layer name\n",
    "    ---\n",
    "    \"\"\"\n",
    "    \n",
    "    @property\n",
    "    def contents(self):\n",
    "        yield from zip(['L1', 'L2/3', 'L4', 'L5', 'L6'])\n",
    "```\n",
    "\n",
    "**Important:** `dj.Lookup` tables do not delete elements if you delete them from the iterable. They only add more elements and they only do this if the length of `contents` and the number of tuples in the relation do not match up. So if you replace an entry from contents by another one, nothing will happen. The reason for implementing it this way is simple efficiency. If would take a long time to match up all the contents everytime the python class object is built. Especially when working with Amazon AWS this can create quite some overhead. \n"
   ]
  },
  {
   "cell_type": "markdown",
   "metadata": {},
   "source": [
    "[Next](Primer06.ipynb)"
   ]
  }
 ],
 "metadata": {
  "kernelspec": {
   "display_name": "Python 3",
   "language": "python",
   "name": "python3"
  },
  "language_info": {
   "codemirror_mode": {
    "name": "ipython",
    "version": 3
   },
   "file_extension": ".py",
   "mimetype": "text/x-python",
   "name": "python",
   "nbconvert_exporter": "python",
   "pygments_lexer": "ipython3",
   "version": "3.5.1+"
  }
 },
 "nbformat": 4,
 "nbformat_minor": 0
}
