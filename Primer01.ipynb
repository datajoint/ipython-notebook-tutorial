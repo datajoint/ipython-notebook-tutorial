{
 "cells": [
  {
   "cell_type": "markdown",
   "metadata": {},
   "source": [
    "[Prev](Primer00.ipynb)\n",
    "\n",
    "DataJoint Primer. Section 1.\n",
    "# Connect"
   ]
  },
  {
   "cell_type": "markdown",
   "metadata": {},
   "source": [
    "## Install DataJoint\n",
    "Install the `datajoint` libraries and its dependencies.\n",
    "The installation instructions are found at http://datajoint.github.io/installation/\n",
    "\n",
    "If you run into any issues, submit them https://github.com/datajoint/datajoint-python/issues"
   ]
  },
  {
   "cell_type": "markdown",
   "metadata": {
    "collapsed": true
   },
   "source": [
    "## Configure connection\n",
    "Upon importing `datajoint` in Python for the first time, it will prompt you to specify your database credentials:"
   ]
  },
  {
   "cell_type": "code",
   "execution_count": 1,
   "metadata": {
    "collapsed": false
   },
   "outputs": [
    {
     "name": "stdout",
     "output_type": "stream",
     "text": [
      "DataJoint 0.2.1 (June 1, 2016)\n",
      "Cannot find configuration settings. Using default configuration. To change that, either\n",
      "    * modify the local copy of dj_local_conf.json that datajoint just saved for you\n",
      "    * put a file named .datajoint_config.json with the same configuration format in your home\n",
      "    * specify the environment variables DJ_USER, DJ_HOST, DJ_PASS\n",
      "          \n"
     ]
    }
   ],
   "source": [
    "import datajoint"
   ]
  },
  {
   "cell_type": "markdown",
   "metadata": {},
   "source": [
    "Follow these instructions to specify your database credentials (host address, username, and password), which you should have received from your database administrator.\n",
    "\n",
    "If you specify your credentials in a config file, be careful not to share your it with others when sharing your code, for example. If you use a version control system such as `git` or `svn`, be sure to exclude the config file."
   ]
  },
  {
   "cell_type": "markdown",
   "metadata": {},
   "source": [
    "When you restart the Python kernel and import `datajoint` again, it will indicate which configuration was used."
   ]
  },
  {
   "cell_type": "code",
   "execution_count": 4,
   "metadata": {
    "collapsed": false
   },
   "outputs": [
    {
     "name": "stdout",
     "output_type": "stream",
     "text": [
      "DataJoint 0.2.1 (June 1, 2016)\n",
      "Loading local settings from /Users/dimitri/.datajoint_config.json\n"
     ]
    }
   ],
   "source": [
    "import datajoint as dj"
   ]
  },
  {
   "cell_type": "markdown",
   "metadata": {},
   "source": [
    "You may test the database connection using the `conn` function.  If you supplied correct credentials you should get the status of your connection, e.g.:"
   ]
  },
  {
   "cell_type": "code",
   "execution_count": 5,
   "metadata": {
    "collapsed": false
   },
   "outputs": [
    {
     "data": {
      "text/plain": [
       "DataJoint connection (connected) dimitri@ninai.cluster-chjk7zcxhsgn.us-east-1.rds.amazonaws.com:3306"
      ]
     },
     "execution_count": 5,
     "metadata": {},
     "output_type": "execute_result"
    }
   ],
   "source": [
    "dj.conn()"
   ]
  },
  {
   "cell_type": "markdown",
   "metadata": {
    "collapsed": true
   },
   "source": [
    "[Next](Primer02.ipynb)"
   ]
  }
 ],
 "metadata": {
  "kernelspec": {
   "display_name": "Python 3",
   "language": "python",
   "name": "python3"
  },
  "language_info": {
   "codemirror_mode": {
    "name": "ipython",
    "version": 3
   },
   "file_extension": ".py",
   "mimetype": "text/x-python",
   "name": "python",
   "nbconvert_exporter": "python",
   "pygments_lexer": "ipython3",
   "version": "3.5.0"
  }
 },
 "nbformat": 4,
 "nbformat_minor": 0
}
