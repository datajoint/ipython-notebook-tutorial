{
 "cells": [
  {
   "cell_type": "markdown",
   "metadata": {},
   "source": [
    "DataJoint Primer. Section 0. \n",
    "# Setup"
   ]
  },
  {
   "cell_type": "markdown",
   "metadata": {},
   "source": [
    "## Database access\n",
    "This section pertains to system administrators rather than users of DataJoint.\n",
    "\n",
    "If you are collaborating with a team who already use DataJoint, simply request your database credentials and skip this section.\n",
    "\n",
    "### Hosting the database server\n",
    "DataJoint relies on a MySQL-compatible database server (e.g. MySQL, MariaDB, Amazon Aurora) for all its data operations. \n",
    "We advise that you turn to an IT professional for configuring your server, especially for a large distributed team.\n",
    "However, numerous online resources exist to help you accomplish this task.\n",
    "\n",
    "The first decision you need to make is where this server will be hosted and how it will be administered. \n",
    "The server may be hosted on your personal computer or on a dedicated machine in your lab. \n",
    "Increasingly, many teams make use of cloud-hosted database services such as Amazon's  [RDS](https://aws.amazon.com/rds/), which allow great flexibility and easy admininstration.\n",
    "\n",
    "For more info see http://datajoint.github.io/installation/.\n",
    "\n",
    "### Database server configuration\n",
    "Typical default configurations of MySQL servers is not adequate and needs to be adjusted to allow for stricter data checks and larger data packet sizes. \n",
    "\n",
    "### User account and privileges\n",
    "Create a user account on the MySQL server. \n",
    "\n",
    "For example, if your username is `alice`, the SQL code for this step is \n",
    "```SQL\n",
    "CREATE USER 'alice'@'%' IDENTIFIED BY 'alices-secret-password';\n",
    "```\n",
    "\n",
    "Teams that use DataJoint typically divide their data into _schemas_ grouped together by common prefixes. For example, a lab may have a collection of schemas that begin with `common_`. \n",
    "Some common processing may be organized into several schemas that begin with `pipeline_`.\n",
    "Typically each user has all privileges to schemas that begin with her username.\n",
    "\n",
    "For example, `alice` may have privileges to select and insert data from the common schemas (but not create new tables), and have all privileges to the pipeline schemas.\n",
    "\n",
    "Then the SQL code to grant her priviges might look like\n",
    "```SQL\n",
    "GRANT SELECT, INSERT ON `common\\_%`.* TO 'alice'@'%';\n",
    "GRANT ALL PRIVILEGES ON `pipeline\\_%`.* TO 'alice'@'%';\n",
    "GRANT ALL PRIVILEGES ON `alice\\_%`.* TO 'alice'@'%';\n",
    "```\n",
    "    "
   ]
  },
  {
   "cell_type": "markdown",
   "metadata": {},
   "source": [
    "[Next](Primer01.ipynb)"
   ]
  }
 ],
 "metadata": {
  "kernelspec": {
   "display_name": "Python 3",
   "language": "python",
   "name": "python3"
  },
  "language_info": {
   "codemirror_mode": {
    "name": "ipython",
    "version": 3
   },
   "file_extension": ".py",
   "mimetype": "text/x-python",
   "name": "python",
   "nbconvert_exporter": "python",
   "pygments_lexer": "ipython3",
   "version": "3.5.0"
  }
 },
 "nbformat": 4,
 "nbformat_minor": 0
}
