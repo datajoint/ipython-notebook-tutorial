{
 "cells": [
  {
   "cell_type": "markdown",
   "metadata": {},
   "source": [
    "[Prev](Primer03.ipynb)\n",
    "\n",
    "DataJoint Primer. Section 4.\n",
    "# Schemas as python modules"
   ]
  },
  {
   "cell_type": "code",
   "execution_count": 2,
   "metadata": {
    "collapsed": false
   },
   "outputs": [],
   "source": [
    "%matplotlib notebook\n",
    "import datajoint as dj"
   ]
  },
  {
   "cell_type": "markdown",
   "metadata": {},
   "source": [
    "In the [previous part](Primer03.ipynb) we have defined several relations of a schema in an Jupyter notebook cell. \n",
    "\n",
    "In practice, defining relations in a notebook is hardly practical. Since the python classes that represent your tables should be re-usable in several analyses. Therefore, it is useful to put them into a separate file and import them from a module. \n",
    "\n",
    "Let's take the code from the [previous part](Primer03.ipynb) and put it in a separate file called `experiments.py`. The file should look like this. \n"
   ]
  },
  {
   "cell_type": "markdown",
   "metadata": {
    "collapsed": false
   },
   "source": [
    "```python\n",
    "import datajoint as dj\n",
    "schema = dj.schema('dimitri_experiment', locals())\n",
    "\n",
    "@schema\n",
    "class Subject(dj.Manual):\n",
    "    definition = \"\"\"\n",
    "    # Basic subject info\n",
    "    subject_id       : int     # internal subject id\n",
    "    ---\n",
    "    real_id                     :  varchar(40)    #  real-world name\n",
    "    species = \"mouse\"           : enum('mouse', 'monkey', 'human')   # species\n",
    "    date_of_birth=null          : date                          # animal's date of birth\n",
    "    sex=\"unknown\"               : enum('M','F','unknown')       #\n",
    "    caretaker=\"Unknown\"         : varchar(20)                   # person responsible for working with this subject\n",
    "    animal_notes=\"\"             : varchar(4096)                 # strain, genetic manipulations, etc\n",
    "    \"\"\"\n",
    "\n",
    "\n",
    "@schema\n",
    "class Experiment(dj.Manual):\n",
    "    definition = \"\"\"\n",
    "    # Basic subject info\n",
    "\n",
    "    -> Subject\n",
    "    experiment          : smallint   # experiment number for this subject\n",
    "    ---\n",
    "    experiment_folder               : varchar(255) # folder path\n",
    "    experiment_date                 : date        # experiment start date\n",
    "    experiment_notes=\"\"             : varchar(4096)\n",
    "    experiment_ts=CURRENT_TIMESTAMP : timestamp   # automatic timestamp\n",
    "    \"\"\"\n",
    "\n",
    "\n",
    "@schema\n",
    "class Session(dj.Manual):\n",
    "    definition = \"\"\"\n",
    "    # a two-photon imaging session\n",
    "\n",
    "    -> Experiment\n",
    "    session_id    : tinyint  # two-photon session within this experiment\n",
    "    -----------\n",
    "    setup      : tinyint   # experimental setup\n",
    "    lens       : tinyint   # lens e.g.: 10x, 20x, 25x, 60x\n",
    "    \"\"\"\n",
    "\n",
    "\n",
    "@schema\n",
    "class Scan(dj.Manual):\n",
    "    definition = \"\"\"\n",
    "    # a two-photon imaging session\n",
    "\n",
    "    -> Session\n",
    "    scan_id : tinyint  # two-photon session within this experiment\n",
    "    ----\n",
    "    depth  :   float    #  depth from surface\n",
    "    wavelength : smallint  # (nm)  laser wavelength\n",
    "    mwatts: numeric(4,1)  # (mW) laser power to brain\n",
    "    \"\"\"\n",
    "```"
   ]
  },
  {
   "cell_type": "markdown",
   "metadata": {
    "collapsed": false
   },
   "source": [
    "Now we can import this module and re-use its tables in several scripts or notebooks."
   ]
  },
  {
   "cell_type": "code",
   "execution_count": 4,
   "metadata": {
    "collapsed": false
   },
   "outputs": [
    {
     "data": {
      "text/html": [
       " <h3>a two-photon imaging session</h3>\n",
       "            <div style=\"max-height:1000px;max-width:1500px;overflow:auto;\">\n",
       "            <table border=\"1\" class=\"dataframe\">\n",
       "                <thead> <tr style=\"text-align: right;\"> <th> <em>subject_id</em></th><th><em>experiment</em></th><th><em>session_id</em></th><th><em>scan_id</em></th><th>depth</th><th>wavelength</th><th>mwatts </th> </tr> </thead>\n",
       "                <tbody> <tr>  </tr> </tbody>\n",
       "            </table>\n",
       "            <p>0 tuples</p></div>\n",
       "            "
      ],
      "text/plain": [
       "*subject_id    *experiment    *session_id    *scan_id    depth     wavelength     mwatts    \n",
       "+------------+ +------------+ +------------+ +---------+ +-------+ +------------+ +--------+\n",
       "\n",
       " (0 tuples)"
      ]
     },
     "execution_count": 4,
     "metadata": {},
     "output_type": "execute_result"
    }
   ],
   "source": [
    "import experiment as expe\n",
    "expe.Scan()"
   ]
  },
  {
   "cell_type": "markdown",
   "metadata": {},
   "source": [
    "We can also use these classes now to define new relations based on them. Let's say we want an additional table that stores the cortical layer for particular scans. Certainly, this class should depend on `expe.Scan`.\n",
    "\n",
    "**Remark:** Of course, we would normally define a new relation that belongs to the experiment schema in the same python file. We just define `CorticalLayer` in this notebook to demonstrate a few details about how tables are generated. "
   ]
  },
  {
   "cell_type": "code",
   "execution_count": 7,
   "metadata": {
    "collapsed": false
   },
   "outputs": [
    {
     "data": {
      "text/html": [
       " <h3>cortical layer a scan was performed in</h3>\n",
       "            <div style=\"max-height:1000px;max-width:1500px;overflow:auto;\">\n",
       "            <table border=\"1\" class=\"dataframe\">\n",
       "                <thead> <tr style=\"text-align: right;\"> <th> <em>subject_id</em></th><th><em>experiment</em></th><th><em>session_id</em></th><th><em>scan_id</em></th><th>layer </th> </tr> </thead>\n",
       "                <tbody> <tr>  </tr> </tbody>\n",
       "            </table>\n",
       "            <p>0 tuples</p></div>\n",
       "            "
      ],
      "text/plain": [
       "*subject_id    *experiment    *session_id    *scan_id    layer    \n",
       "+------------+ +------------+ +------------+ +---------+ +-------+\n",
       "\n",
       " (0 tuples)"
      ]
     },
     "execution_count": 7,
     "metadata": {},
     "output_type": "execute_result"
    }
   ],
   "source": [
    "schema = dj.schema('dimitri_experiment', locals())\n",
    "\n",
    "@schema\n",
    "class CorticalLayer(dj.Manual):\n",
    "    definition = \"\"\"\n",
    "    # cortical layer a scan was performed in \n",
    "    -> expe.Scan\n",
    "    ---\n",
    "    layer    : enum(\"L1\",\"L2/3\",\"L4\", \"L5\",\"L6\")\n",
    "    \"\"\"\n",
    "    \n",
    "CorticalLayer()"
   ]
  },
  {
   "cell_type": "markdown",
   "metadata": {},
   "source": [
    "Notice how we referred to the `Scan` relation as `expe.Scan`. This is because in _this_ notebook, `Scan` is called `expe.Scan`. If we imported it via `from experiment import Scan as Jabberwocky`, then the table definition would look like this\n",
    "\n",
    "```python\n",
    "from experiment import Scan as Jabberwocky\n",
    "schema = dj.schema('dimitri_experiment', locals())\n",
    "\n",
    "@schema\n",
    "class CorticalLayer(dj.Manual):\n",
    "    definition = \"\"\"\n",
    "    # cortical layer a scan was performed in \n",
    "    -> Jabberwocky\n",
    "    ---\n",
    "    layer    : enum(\"L1\",\"L2/3\",\"L4\", \"L5\",\"L6\")\n",
    "    \"\"\"\n",
    "```\n",
    "\n",
    "This works because we pass `locals()` as a second argument to the `schema` decorator. This argument needs to be a dictionary that must contain all the names of the foreign keys and the respective python classes as values. `locals()` is a dictionary that contains all the local variables, so it is an easy choice. However, this would have worked as well. \n",
    "\n",
    "```python\n",
    "import experiment as expe\n",
    "schema = dj.schema('dimitri_experiment', dict(Jabberwocky=expe.Scan))\n",
    "\n",
    "@schema\n",
    "class CorticalLayer(dj.Manual):\n",
    "    definition = \"\"\"\n",
    "    # cortical layer a scan was performed in \n",
    "    -> Jabberwocky\n",
    "    ---\n",
    "    layer    : enum(\"L1\",\"L2/3\",\"L4\", \"L5\",\"L6\")\n",
    "    \"\"\"\n",
    "```\n",
    "\n",
    "This mechanism is very powerful, because it allows us to define dependencies between arbitrary relations on the same server. However, as you can see from the `Jabberwocky` example, it can also be use for all kinds of non-sensical code and black magic. We (the developers) have never found a case in which anything other but `locals()` was necessary or would have made sense. Use common sense to use reasonable and informative names in the dependencies of a relation. "
   ]
  },
  {
   "cell_type": "markdown",
   "metadata": {},
   "source": [
    "## Generate classes in a module from the database\n",
    "\n",
    "Notice that the database `dimitri_experiment` now has an additional relation because we defined it here. Of course, the reasonable step would be to copy it into the file `experiment.py`. However, DataJoint can also generate the python class from the database for use. To that end, we need to add the following code at the end of the file. \n",
    "\n",
    "```python\n",
    "\n",
    "# ... other class definitions\n",
    "\n",
    "@schema\n",
    "class Scan(dj.Manual):\n",
    "    definition = \"\"\"\n",
    "    # a two-photon imaging session\n",
    "\n",
    "    -> Session\n",
    "    scan_id : tinyint  # two-photon session within this experiment\n",
    "    ----\n",
    "    depth  :   float    #  depth from surface\n",
    "    wavelength : smallint  # (nm)  laser wavelength\n",
    "    mwatts: numeric(4,1)  # (mW) laser power to brain\n",
    "    \"\"\"\n",
    "    \n",
    "schema.spawn_missing_classes()\n",
    "```\n",
    "\n",
    "This function looks through the database, defines the corresponding python class objects, and puts them into the local name space. The most common use case for this mechanism is when relations are defined in Matlab, but we want to access them from Python. All we need to do in this case is to define a new module, create a `schema` decorator with the correct database, and call the function.\n",
    "\n",
    "```python\n",
    "# contents of a fictional schema defined in Matlab\n",
    "\n",
    "import datajoint as dj\n",
    "schema = dj.schema('matlab_schema',locals())\n",
    "\n",
    "schema.spawn_missing_classes()\n",
    "```\n",
    "\n",
    "Of course, we could just have copied the definitions from Matlab and generated the corresponding classes in Python. However, this way of generating the definitions from the database is more robust against the case in which the definition is changed in Matlab, but the Python code is not updated. DataJoint would still load the correct version from the database, but the definition in the Python file would not make sense anymore. Better to not define anything at all and refer the use to the corresponding Matlab code. "
   ]
  },
  {
   "cell_type": "markdown",
   "metadata": {},
   "source": [
    "[Next](Primer05.ipynb)"
   ]
  }
 ],
 "metadata": {
  "kernelspec": {
   "display_name": "Python 3",
   "language": "python",
   "name": "python3"
  },
  "language_info": {
   "codemirror_mode": {
    "name": "ipython",
    "version": 3
   },
   "file_extension": ".py",
   "mimetype": "text/x-python",
   "name": "python",
   "nbconvert_exporter": "python",
   "pygments_lexer": "ipython3",
   "version": "3.5.1+"
  }
 },
 "nbformat": 4,
 "nbformat_minor": 0
}
